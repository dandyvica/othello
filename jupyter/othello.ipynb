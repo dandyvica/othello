{
 "cells": [
  {
   "cell_type": "markdown",
   "metadata": {},
   "source": [
    "# Othello game bitboard\n",
    "\n",
    "I'll use this Jupyter notebook to explore Othello bitboards and understand move generation, etc.\n",
    "\n",
    "I developed a specific Python3 module which generates SVG Othello board diagrams."
   ]
  },
  {
   "cell_type": "code",
   "execution_count": 1,
   "metadata": {},
   "outputs": [
    {
     "data": {
      "image/svg+xml": [
       "<svg height=\"250\" viewBox=\"0 0 10 10\" width=\"250\" xmlns=\"http://www.w3.org/2000/svg\"><rect height=\"8\" style=\"fill:#009000;\" width=\"8\" x=\"1\" y=\"1\"/><text style=\"font-family:Verdana;font-size:0.5px\" x=\"0.4\" y=\"1.6\">1</text><text style=\"font-family:Verdana;font-size:0.5px\" x=\"0.4\" y=\"2.6\">2</text><text style=\"font-family:Verdana;font-size:0.5px\" x=\"0.4\" y=\"3.6\">3</text><text style=\"font-family:Verdana;font-size:0.5px\" x=\"0.4\" y=\"4.6\">4</text><text style=\"font-family:Verdana;font-size:0.5px\" x=\"0.4\" y=\"5.6\">5</text><text style=\"font-family:Verdana;font-size:0.5px\" x=\"0.4\" y=\"6.6\">6</text><text style=\"font-family:Verdana;font-size:0.5px\" x=\"0.4\" y=\"7.6\">7</text><text style=\"font-family:Verdana;font-size:0.5px\" x=\"0.4\" y=\"8.6\">8</text><text style=\"font-family:Verdana;font-size:0.5px\" x=\"1.3\" y=\"0.8\">A</text><text style=\"font-family:Verdana;font-size:0.5px\" x=\"2.3\" y=\"0.8\">B</text><text style=\"font-family:Verdana;font-size:0.5px\" x=\"3.3\" y=\"0.8\">C</text><text style=\"font-family:Verdana;font-size:0.5px\" x=\"4.3\" y=\"0.8\">D</text><text style=\"font-family:Verdana;font-size:0.5px\" x=\"5.3\" y=\"0.8\">E</text><text style=\"font-family:Verdana;font-size:0.5px\" x=\"6.3\" y=\"0.8\">F</text><text style=\"font-family:Verdana;font-size:0.5px\" x=\"7.3\" y=\"0.8\">G</text><text style=\"font-family:Verdana;font-size:0.5px\" x=\"8.3\" y=\"0.8\">H</text><line style=\"stroke:black;stroke-width:0.05\" x1=\"1\" x2=\"9\" y1=\"1.025\" y2=\"1.025\"/><line style=\"stroke:black;stroke-width:0.05\" x1=\"1\" x2=\"9\" y1=\"2\" y2=\"2\"/><line style=\"stroke:black;stroke-width:0.05\" x1=\"1\" x2=\"9\" y1=\"3\" y2=\"3\"/><line style=\"stroke:black;stroke-width:0.05\" x1=\"1\" x2=\"9\" y1=\"4\" y2=\"4\"/><line style=\"stroke:black;stroke-width:0.05\" x1=\"1\" x2=\"9\" y1=\"5\" y2=\"5\"/><line style=\"stroke:black;stroke-width:0.05\" x1=\"1\" x2=\"9\" y1=\"6\" y2=\"6\"/><line style=\"stroke:black;stroke-width:0.05\" x1=\"1\" x2=\"9\" y1=\"7\" y2=\"7\"/><line style=\"stroke:black;stroke-width:0.05\" x1=\"1\" x2=\"9\" y1=\"8\" y2=\"8\"/><line style=\"stroke:black;stroke-width:0.05\" x1=\"1\" x2=\"9\" y1=\"9\" y2=\"9\"/><line style=\"stroke:black;stroke-width:0.05\" x1=\"1\" x2=\"1\" y1=\"1\" y2=\"9.025\"/><line style=\"stroke:black;stroke-width:0.05\" x1=\"2\" x2=\"2\" y1=\"1\" y2=\"9.025\"/><line style=\"stroke:black;stroke-width:0.05\" x1=\"3\" x2=\"3\" y1=\"1\" y2=\"9.025\"/><line style=\"stroke:black;stroke-width:0.05\" x1=\"4\" x2=\"4\" y1=\"1\" y2=\"9.025\"/><line style=\"stroke:black;stroke-width:0.05\" x1=\"5\" x2=\"5\" y1=\"1\" y2=\"9.025\"/><line style=\"stroke:black;stroke-width:0.05\" x1=\"6\" x2=\"6\" y1=\"1\" y2=\"9.025\"/><line style=\"stroke:black;stroke-width:0.05\" x1=\"7\" x2=\"7\" y1=\"1\" y2=\"9.025\"/><line style=\"stroke:black;stroke-width:0.05\" x1=\"8\" x2=\"8\" y1=\"1\" y2=\"9.025\"/><line style=\"stroke:black;stroke-width:0.05\" x1=\"8.975\" x2=\"9\" y1=\"1\" y2=\"9.025\"/><text style=\"font-family:Verdana;font-size:0.5px;fill:black\" text-anchor=\"middle\" x=\"5\" y=\"9.6\">Empty board</text></svg>"
      ],
      "text/plain": [
       "<IPython.core.display.SVG object>"
      ]
     },
     "execution_count": 1,
     "metadata": {},
     "output_type": "execute_result"
    }
   ],
   "source": [
    "from IPython.display import SVG, HTML\n",
    "\n",
    "# my othello module\n",
    "import othello\n",
    "\n",
    "# board width & heigth set here\n",
    "board_width = board_height = 250\n",
    "\n",
    "# create an empty SVG board\n",
    "board = othello.SVGBoard(board_width, board_height)\n",
    "board.draw_legend('Empty board')\n",
    "board.close()\n",
    "\n",
    "# use SVG INotebook display facility to print out embeded SVG \n",
    "SVG(board.doc.tags)"
   ]
  },
  {
   "cell_type": "code",
   "execution_count": 2,
   "metadata": {},
   "outputs": [
    {
     "data": {
      "image/svg+xml": [
       "<svg height=\"250\" viewBox=\"0 0 10 10\" width=\"250\" xmlns=\"http://www.w3.org/2000/svg\"><rect height=\"8\" style=\"fill:#009000;\" width=\"8\" x=\"1\" y=\"1\"/><text style=\"font-family:Verdana;font-size:0.5px\" x=\"0.4\" y=\"1.6\">1</text><text style=\"font-family:Verdana;font-size:0.5px\" x=\"0.4\" y=\"2.6\">2</text><text style=\"font-family:Verdana;font-size:0.5px\" x=\"0.4\" y=\"3.6\">3</text><text style=\"font-family:Verdana;font-size:0.5px\" x=\"0.4\" y=\"4.6\">4</text><text style=\"font-family:Verdana;font-size:0.5px\" x=\"0.4\" y=\"5.6\">5</text><text style=\"font-family:Verdana;font-size:0.5px\" x=\"0.4\" y=\"6.6\">6</text><text style=\"font-family:Verdana;font-size:0.5px\" x=\"0.4\" y=\"7.6\">7</text><text style=\"font-family:Verdana;font-size:0.5px\" x=\"0.4\" y=\"8.6\">8</text><text style=\"font-family:Verdana;font-size:0.5px\" x=\"1.3\" y=\"0.8\">A</text><text style=\"font-family:Verdana;font-size:0.5px\" x=\"2.3\" y=\"0.8\">B</text><text style=\"font-family:Verdana;font-size:0.5px\" x=\"3.3\" y=\"0.8\">C</text><text style=\"font-family:Verdana;font-size:0.5px\" x=\"4.3\" y=\"0.8\">D</text><text style=\"font-family:Verdana;font-size:0.5px\" x=\"5.3\" y=\"0.8\">E</text><text style=\"font-family:Verdana;font-size:0.5px\" x=\"6.3\" y=\"0.8\">F</text><text style=\"font-family:Verdana;font-size:0.5px\" x=\"7.3\" y=\"0.8\">G</text><text style=\"font-family:Verdana;font-size:0.5px\" x=\"8.3\" y=\"0.8\">H</text><line style=\"stroke:black;stroke-width:0.05\" x1=\"1\" x2=\"9\" y1=\"1.025\" y2=\"1.025\"/><line style=\"stroke:black;stroke-width:0.05\" x1=\"1\" x2=\"9\" y1=\"2\" y2=\"2\"/><line style=\"stroke:black;stroke-width:0.05\" x1=\"1\" x2=\"9\" y1=\"3\" y2=\"3\"/><line style=\"stroke:black;stroke-width:0.05\" x1=\"1\" x2=\"9\" y1=\"4\" y2=\"4\"/><line style=\"stroke:black;stroke-width:0.05\" x1=\"1\" x2=\"9\" y1=\"5\" y2=\"5\"/><line style=\"stroke:black;stroke-width:0.05\" x1=\"1\" x2=\"9\" y1=\"6\" y2=\"6\"/><line style=\"stroke:black;stroke-width:0.05\" x1=\"1\" x2=\"9\" y1=\"7\" y2=\"7\"/><line style=\"stroke:black;stroke-width:0.05\" x1=\"1\" x2=\"9\" y1=\"8\" y2=\"8\"/><line style=\"stroke:black;stroke-width:0.05\" x1=\"1\" x2=\"9\" y1=\"9\" y2=\"9\"/><line style=\"stroke:black;stroke-width:0.05\" x1=\"1\" x2=\"1\" y1=\"1\" y2=\"9.025\"/><line style=\"stroke:black;stroke-width:0.05\" x1=\"2\" x2=\"2\" y1=\"1\" y2=\"9.025\"/><line style=\"stroke:black;stroke-width:0.05\" x1=\"3\" x2=\"3\" y1=\"1\" y2=\"9.025\"/><line style=\"stroke:black;stroke-width:0.05\" x1=\"4\" x2=\"4\" y1=\"1\" y2=\"9.025\"/><line style=\"stroke:black;stroke-width:0.05\" x1=\"5\" x2=\"5\" y1=\"1\" y2=\"9.025\"/><line style=\"stroke:black;stroke-width:0.05\" x1=\"6\" x2=\"6\" y1=\"1\" y2=\"9.025\"/><line style=\"stroke:black;stroke-width:0.05\" x1=\"7\" x2=\"7\" y1=\"1\" y2=\"9.025\"/><line style=\"stroke:black;stroke-width:0.05\" x1=\"8\" x2=\"8\" y1=\"1\" y2=\"9.025\"/><line style=\"stroke:black;stroke-width:0.05\" x1=\"8.975\" x2=\"9\" y1=\"1\" y2=\"9.025\"/><circle cx=\"4.5\" cy=\"4.5\" r=\"0.4\" style=\"fill:white\"/><circle cx=\"5.5\" cy=\"5.5\" r=\"0.4\" style=\"fill:white\"/><circle cx=\"5.5\" cy=\"4.5\" r=\"0.4\" style=\"fill:black\"/><circle cx=\"4.5\" cy=\"5.5\" r=\"0.4\" style=\"fill:black\"/><text style=\"font-family:Verdana;font-size:0.5px;fill:black\" text-anchor=\"middle\" x=\"5\" y=\"9.6\">Start position</text></svg>"
      ],
      "text/plain": [
       "<IPython.core.display.SVG object>"
      ]
     },
     "execution_count": 2,
     "metadata": {},
     "output_type": "execute_result"
    }
   ],
   "source": [
    "# reset previously defined board\n",
    "board.reset()\n",
    "\n",
    "# draw pieces\n",
    "board.draw_piece_from_algebric(\"D4\", othello.Color.white)\n",
    "board.draw_piece_from_algebric(\"E5\", othello.Color.white)\n",
    "board.draw_piece_from_algebric(\"E4\", othello.Color.black)\n",
    "board.draw_piece_from_algebric(\"D5\", othello.Color.black)\n",
    "board.draw_legend('Start position')\n",
    "board.close()\n",
    "\n",
    "# use SVG INotebook display facility to print out embeded SVG \n",
    "SVG(board.doc.tags)"
   ]
  },
  {
   "cell_type": "markdown",
   "metadata": {},
   "source": [
    "The 8x8 Othello board is conveniently modelled using a 64-bit integer called a bitboard. Pieces can be drawn also using a 64-bit integer."
   ]
  },
  {
   "cell_type": "code",
   "execution_count": 3,
   "metadata": {
    "scrolled": false
   },
   "outputs": [
    {
     "data": {
      "image/svg+xml": [
       "<svg height=\"250\" viewBox=\"0 0 10 10\" width=\"250\" xmlns=\"http://www.w3.org/2000/svg\"><rect height=\"8\" style=\"fill:#009000;\" width=\"8\" x=\"1\" y=\"1\"/><text style=\"font-family:Verdana;font-size:0.5px\" x=\"0.4\" y=\"1.6\">1</text><text style=\"font-family:Verdana;font-size:0.5px\" x=\"0.4\" y=\"2.6\">2</text><text style=\"font-family:Verdana;font-size:0.5px\" x=\"0.4\" y=\"3.6\">3</text><text style=\"font-family:Verdana;font-size:0.5px\" x=\"0.4\" y=\"4.6\">4</text><text style=\"font-family:Verdana;font-size:0.5px\" x=\"0.4\" y=\"5.6\">5</text><text style=\"font-family:Verdana;font-size:0.5px\" x=\"0.4\" y=\"6.6\">6</text><text style=\"font-family:Verdana;font-size:0.5px\" x=\"0.4\" y=\"7.6\">7</text><text style=\"font-family:Verdana;font-size:0.5px\" x=\"0.4\" y=\"8.6\">8</text><text style=\"font-family:Verdana;font-size:0.5px\" x=\"1.3\" y=\"0.8\">A</text><text style=\"font-family:Verdana;font-size:0.5px\" x=\"2.3\" y=\"0.8\">B</text><text style=\"font-family:Verdana;font-size:0.5px\" x=\"3.3\" y=\"0.8\">C</text><text style=\"font-family:Verdana;font-size:0.5px\" x=\"4.3\" y=\"0.8\">D</text><text style=\"font-family:Verdana;font-size:0.5px\" x=\"5.3\" y=\"0.8\">E</text><text style=\"font-family:Verdana;font-size:0.5px\" x=\"6.3\" y=\"0.8\">F</text><text style=\"font-family:Verdana;font-size:0.5px\" x=\"7.3\" y=\"0.8\">G</text><text style=\"font-family:Verdana;font-size:0.5px\" x=\"8.3\" y=\"0.8\">H</text><line style=\"stroke:black;stroke-width:0.05\" x1=\"1\" x2=\"9\" y1=\"1.025\" y2=\"1.025\"/><line style=\"stroke:black;stroke-width:0.05\" x1=\"1\" x2=\"9\" y1=\"2\" y2=\"2\"/><line style=\"stroke:black;stroke-width:0.05\" x1=\"1\" x2=\"9\" y1=\"3\" y2=\"3\"/><line style=\"stroke:black;stroke-width:0.05\" x1=\"1\" x2=\"9\" y1=\"4\" y2=\"4\"/><line style=\"stroke:black;stroke-width:0.05\" x1=\"1\" x2=\"9\" y1=\"5\" y2=\"5\"/><line style=\"stroke:black;stroke-width:0.05\" x1=\"1\" x2=\"9\" y1=\"6\" y2=\"6\"/><line style=\"stroke:black;stroke-width:0.05\" x1=\"1\" x2=\"9\" y1=\"7\" y2=\"7\"/><line style=\"stroke:black;stroke-width:0.05\" x1=\"1\" x2=\"9\" y1=\"8\" y2=\"8\"/><line style=\"stroke:black;stroke-width:0.05\" x1=\"1\" x2=\"9\" y1=\"9\" y2=\"9\"/><line style=\"stroke:black;stroke-width:0.05\" x1=\"1\" x2=\"1\" y1=\"1\" y2=\"9.025\"/><line style=\"stroke:black;stroke-width:0.05\" x1=\"2\" x2=\"2\" y1=\"1\" y2=\"9.025\"/><line style=\"stroke:black;stroke-width:0.05\" x1=\"3\" x2=\"3\" y1=\"1\" y2=\"9.025\"/><line style=\"stroke:black;stroke-width:0.05\" x1=\"4\" x2=\"4\" y1=\"1\" y2=\"9.025\"/><line style=\"stroke:black;stroke-width:0.05\" x1=\"5\" x2=\"5\" y1=\"1\" y2=\"9.025\"/><line style=\"stroke:black;stroke-width:0.05\" x1=\"6\" x2=\"6\" y1=\"1\" y2=\"9.025\"/><line style=\"stroke:black;stroke-width:0.05\" x1=\"7\" x2=\"7\" y1=\"1\" y2=\"9.025\"/><line style=\"stroke:black;stroke-width:0.05\" x1=\"8\" x2=\"8\" y1=\"1\" y2=\"9.025\"/><line style=\"stroke:black;stroke-width:0.05\" x1=\"8.975\" x2=\"9\" y1=\"1\" y2=\"9.025\"/><circle cx=\"4.5\" cy=\"4.5\" r=\"0.4\" style=\"fill:white\"/><circle cx=\"5.5\" cy=\"5.5\" r=\"0.4\" style=\"fill:white\"/><circle cx=\"5.5\" cy=\"4.5\" r=\"0.4\" style=\"fill:black\"/><circle cx=\"4.5\" cy=\"5.5\" r=\"0.4\" style=\"fill:black\"/><text style=\"font-family:Verdana;font-size:0.5px;fill:black\" text-anchor=\"middle\" x=\"5\" y=\"9.6\">Start position using bitboards</text></svg>"
      ],
      "text/plain": [
       "<IPython.core.display.SVG object>"
      ]
     },
     "execution_count": 3,
     "metadata": {},
     "output_type": "execute_result"
    }
   ],
   "source": [
    "board.reset()\n",
    "\n",
    "# draw pieces\n",
    "white = othello.Bitboard(0b00000000_00000000_00000000_00010000_00001000_00000000_00000000_00000000)\n",
    "black = othello.Bitboard(0b00000000_00000000_00000000_00001000_00010000_00000000_00000000_00000000)\n",
    "\n",
    "board.draw_pieces_from_bitboard(white, othello.Color.white)\n",
    "board.draw_pieces_from_bitboard(black, othello.Color.black)\n",
    "\n",
    "board.draw_legend('Start position using bitboards')\n",
    "board.close()\n",
    "\n",
    "# use SVG INotebook display facility to print out embeded SVG \n",
    "SVG(board.doc.tags)"
   ]
  },
  {
   "cell_type": "markdown",
   "metadata": {},
   "source": [
    "## Operations on bitboards\n",
    "### Union"
   ]
  },
  {
   "cell_type": "code",
   "execution_count": 11,
   "metadata": {},
   "outputs": [
    {
     "data": {
      "text/html": [
       "<div style=\"white-space: nowrap\"><?xml version=\"1.0\" encoding=\"UTF-8\"?><svg xmlns=\"http://www.w3.org/2000/svg\" viewBox=\"0 0 10 10\" width=\"250\" height=\"250\"><rect x=\"1\" y=\"1\" width=\"8\" height=\"8\" style=\"fill:#009000;\" /><line x1=\"1\" y1=\"1.025\" x2=\"9\" y2=\"1.025\" style=\"stroke:black;stroke-width:0.05\" /><line x1=\"1\" y1=\"2\" x2=\"9\" y2=\"2\" style=\"stroke:black;stroke-width:0.05\" /><line x1=\"1\" y1=\"3\" x2=\"9\" y2=\"3\" style=\"stroke:black;stroke-width:0.05\" /><line x1=\"1\" y1=\"4\" x2=\"9\" y2=\"4\" style=\"stroke:black;stroke-width:0.05\" /><line x1=\"1\" y1=\"5\" x2=\"9\" y2=\"5\" style=\"stroke:black;stroke-width:0.05\" /><line x1=\"1\" y1=\"6\" x2=\"9\" y2=\"6\" style=\"stroke:black;stroke-width:0.05\" /><line x1=\"1\" y1=\"7\" x2=\"9\" y2=\"7\" style=\"stroke:black;stroke-width:0.05\" /><line x1=\"1\" y1=\"8\" x2=\"9\" y2=\"8\" style=\"stroke:black;stroke-width:0.05\" /><line x1=\"1\" y1=\"9\" x2=\"9\" y2=\"9\" style=\"stroke:black;stroke-width:0.05\" /><line x1=\"1\" y1=\"1\" x2=\"1\" y2=\"9.025\" style=\"stroke:black;stroke-width:0.05\" /><line x1=\"2\" y1=\"1\" x2=\"2\" y2=\"9.025\" style=\"stroke:black;stroke-width:0.05\" /><line x1=\"3\" y1=\"1\" x2=\"3\" y2=\"9.025\" style=\"stroke:black;stroke-width:0.05\" /><line x1=\"4\" y1=\"1\" x2=\"4\" y2=\"9.025\" style=\"stroke:black;stroke-width:0.05\" /><line x1=\"5\" y1=\"1\" x2=\"5\" y2=\"9.025\" style=\"stroke:black;stroke-width:0.05\" /><line x1=\"6\" y1=\"1\" x2=\"6\" y2=\"9.025\" style=\"stroke:black;stroke-width:0.05\" /><line x1=\"7\" y1=\"1\" x2=\"7\" y2=\"9.025\" style=\"stroke:black;stroke-width:0.05\" /><line x1=\"8\" y1=\"1\" x2=\"8\" y2=\"9.025\" style=\"stroke:black;stroke-width:0.05\" /><line x1=\"8.975\" y1=\"1\" x2=\"9\" y2=\"9.025\" style=\"stroke:black;stroke-width:0.05\" /><circle cx=\"3.5\" cy=\"3.5\" r=\"0.4\" style=\"fill:black\" /><circle cx=\"4.5\" cy=\"3.5\" r=\"0.4\" style=\"fill:black\" /><circle cx=\"5.5\" cy=\"3.5\" r=\"0.4\" style=\"fill:black\" /><circle cx=\"6.5\" cy=\"3.5\" r=\"0.4\" style=\"fill:black\" /><circle cx=\"3.5\" cy=\"4.5\" r=\"0.4\" style=\"fill:black\" /><circle cx=\"6.5\" cy=\"4.5\" r=\"0.4\" style=\"fill:black\" /><circle cx=\"3.5\" cy=\"5.5\" r=\"0.4\" style=\"fill:black\" /><circle cx=\"6.5\" cy=\"5.5\" r=\"0.4\" style=\"fill:black\" /><circle cx=\"3.5\" cy=\"6.5\" r=\"0.4\" style=\"fill:black\" /><circle cx=\"4.5\" cy=\"6.5\" r=\"0.4\" style=\"fill:black\" /><circle cx=\"5.5\" cy=\"6.5\" r=\"0.4\" style=\"fill:black\" /><circle cx=\"6.5\" cy=\"6.5\" r=\"0.4\" style=\"fill:black\" /></svg><?xml version=\"1.0\" encoding=\"UTF-8\"?><svg xmlns=\"http://www.w3.org/2000/svg\" viewBox=\"0 0 10 10\" width=\"250\" height=\"250\"><rect x=\"1\" y=\"1\" width=\"8\" height=\"8\" style=\"fill:#009000;\" /><line x1=\"1\" y1=\"1.025\" x2=\"9\" y2=\"1.025\" style=\"stroke:black;stroke-width:0.05\" /><line x1=\"1\" y1=\"2\" x2=\"9\" y2=\"2\" style=\"stroke:black;stroke-width:0.05\" /><line x1=\"1\" y1=\"3\" x2=\"9\" y2=\"3\" style=\"stroke:black;stroke-width:0.05\" /><line x1=\"1\" y1=\"4\" x2=\"9\" y2=\"4\" style=\"stroke:black;stroke-width:0.05\" /><line x1=\"1\" y1=\"5\" x2=\"9\" y2=\"5\" style=\"stroke:black;stroke-width:0.05\" /><line x1=\"1\" y1=\"6\" x2=\"9\" y2=\"6\" style=\"stroke:black;stroke-width:0.05\" /><line x1=\"1\" y1=\"7\" x2=\"9\" y2=\"7\" style=\"stroke:black;stroke-width:0.05\" /><line x1=\"1\" y1=\"8\" x2=\"9\" y2=\"8\" style=\"stroke:black;stroke-width:0.05\" /><line x1=\"1\" y1=\"9\" x2=\"9\" y2=\"9\" style=\"stroke:black;stroke-width:0.05\" /><line x1=\"1\" y1=\"1\" x2=\"1\" y2=\"9.025\" style=\"stroke:black;stroke-width:0.05\" /><line x1=\"2\" y1=\"1\" x2=\"2\" y2=\"9.025\" style=\"stroke:black;stroke-width:0.05\" /><line x1=\"3\" y1=\"1\" x2=\"3\" y2=\"9.025\" style=\"stroke:black;stroke-width:0.05\" /><line x1=\"4\" y1=\"1\" x2=\"4\" y2=\"9.025\" style=\"stroke:black;stroke-width:0.05\" /><line x1=\"5\" y1=\"1\" x2=\"5\" y2=\"9.025\" style=\"stroke:black;stroke-width:0.05\" /><line x1=\"6\" y1=\"1\" x2=\"6\" y2=\"9.025\" style=\"stroke:black;stroke-width:0.05\" /><line x1=\"7\" y1=\"1\" x2=\"7\" y2=\"9.025\" style=\"stroke:black;stroke-width:0.05\" /><line x1=\"8\" y1=\"1\" x2=\"8\" y2=\"9.025\" style=\"stroke:black;stroke-width:0.05\" /><line x1=\"8.975\" y1=\"1\" x2=\"9\" y2=\"9.025\" style=\"stroke:black;stroke-width:0.05\" /><circle cx=\"4.5\" cy=\"4.5\" r=\"0.4\" style=\"fill:black\" /><circle cx=\"5.5\" cy=\"4.5\" r=\"0.4\" style=\"fill:black\" /><circle cx=\"4.5\" cy=\"5.5\" r=\"0.4\" style=\"fill:black\" /><circle cx=\"5.5\" cy=\"5.5\" r=\"0.4\" style=\"fill:black\" /></svg><?xml version=\"1.0\" encoding=\"UTF-8\"?><svg xmlns=\"http://www.w3.org/2000/svg\" viewBox=\"0 0 10 10\" width=\"250\" height=\"250\"><rect x=\"1\" y=\"1\" width=\"8\" height=\"8\" style=\"fill:#009000;\" /><line x1=\"1\" y1=\"1.025\" x2=\"9\" y2=\"1.025\" style=\"stroke:black;stroke-width:0.05\" /><line x1=\"1\" y1=\"2\" x2=\"9\" y2=\"2\" style=\"stroke:black;stroke-width:0.05\" /><line x1=\"1\" y1=\"3\" x2=\"9\" y2=\"3\" style=\"stroke:black;stroke-width:0.05\" /><line x1=\"1\" y1=\"4\" x2=\"9\" y2=\"4\" style=\"stroke:black;stroke-width:0.05\" /><line x1=\"1\" y1=\"5\" x2=\"9\" y2=\"5\" style=\"stroke:black;stroke-width:0.05\" /><line x1=\"1\" y1=\"6\" x2=\"9\" y2=\"6\" style=\"stroke:black;stroke-width:0.05\" /><line x1=\"1\" y1=\"7\" x2=\"9\" y2=\"7\" style=\"stroke:black;stroke-width:0.05\" /><line x1=\"1\" y1=\"8\" x2=\"9\" y2=\"8\" style=\"stroke:black;stroke-width:0.05\" /><line x1=\"1\" y1=\"9\" x2=\"9\" y2=\"9\" style=\"stroke:black;stroke-width:0.05\" /><line x1=\"1\" y1=\"1\" x2=\"1\" y2=\"9.025\" style=\"stroke:black;stroke-width:0.05\" /><line x1=\"2\" y1=\"1\" x2=\"2\" y2=\"9.025\" style=\"stroke:black;stroke-width:0.05\" /><line x1=\"3\" y1=\"1\" x2=\"3\" y2=\"9.025\" style=\"stroke:black;stroke-width:0.05\" /><line x1=\"4\" y1=\"1\" x2=\"4\" y2=\"9.025\" style=\"stroke:black;stroke-width:0.05\" /><line x1=\"5\" y1=\"1\" x2=\"5\" y2=\"9.025\" style=\"stroke:black;stroke-width:0.05\" /><line x1=\"6\" y1=\"1\" x2=\"6\" y2=\"9.025\" style=\"stroke:black;stroke-width:0.05\" /><line x1=\"7\" y1=\"1\" x2=\"7\" y2=\"9.025\" style=\"stroke:black;stroke-width:0.05\" /><line x1=\"8\" y1=\"1\" x2=\"8\" y2=\"9.025\" style=\"stroke:black;stroke-width:0.05\" /><line x1=\"8.975\" y1=\"1\" x2=\"9\" y2=\"9.025\" style=\"stroke:black;stroke-width:0.05\" /><circle cx=\"3.5\" cy=\"3.5\" r=\"0.1\" style=\"fill:white\" /><circle cx=\"4.5\" cy=\"3.5\" r=\"0.1\" style=\"fill:white\" /><circle cx=\"5.5\" cy=\"3.5\" r=\"0.1\" style=\"fill:white\" /><circle cx=\"6.5\" cy=\"3.5\" r=\"0.1\" style=\"fill:white\" /><circle cx=\"3.5\" cy=\"4.5\" r=\"0.1\" style=\"fill:white\" /><circle cx=\"4.5\" cy=\"4.5\" r=\"0.1\" style=\"fill:white\" /><circle cx=\"5.5\" cy=\"4.5\" r=\"0.1\" style=\"fill:white\" /><circle cx=\"6.5\" cy=\"4.5\" r=\"0.1\" style=\"fill:white\" /><circle cx=\"3.5\" cy=\"5.5\" r=\"0.1\" style=\"fill:white\" /><circle cx=\"4.5\" cy=\"5.5\" r=\"0.1\" style=\"fill:white\" /><circle cx=\"5.5\" cy=\"5.5\" r=\"0.1\" style=\"fill:white\" /><circle cx=\"6.5\" cy=\"5.5\" r=\"0.1\" style=\"fill:white\" /><circle cx=\"3.5\" cy=\"6.5\" r=\"0.1\" style=\"fill:white\" /><circle cx=\"4.5\" cy=\"6.5\" r=\"0.1\" style=\"fill:white\" /><circle cx=\"5.5\" cy=\"6.5\" r=\"0.1\" style=\"fill:white\" /><circle cx=\"6.5\" cy=\"6.5\" r=\"0.1\" style=\"fill:white\" /></svg></div>"
      ],
      "text/plain": [
       "<IPython.core.display.HTML object>"
      ]
     },
     "metadata": {},
     "output_type": "display_data"
    }
   ],
   "source": [
    "# create 3 boards for displaying operations on bitboards. We'll reuse them across cells\n",
    "board1 = othello.SVGBoard(board_width, board_height, False)\n",
    "board2 = othello.SVGBoard(board_width, board_height, False)\n",
    "board3 = othello.SVGBoard(board_width, board_height, False)\n",
    "\n",
    "\n",
    "bb1 = othello.Bitboard(0b00000000_00000000_00111100_00100100_00100100_00111100_00000000_00000000)\n",
    "bb2 = othello.Bitboard(0b00000000_00000000_00000000_00011000_00011000_00000000_00000000_00000000)\n",
    "\n",
    "board1.draw_pieces_from_bitboard(bb1, othello.Color.black)\n",
    "board2.draw_pieces_from_bitboard(bb2, othello.Color.black)\n",
    "board3.draw_pieces_from_bitboard(bb1|bb2, othello.Color.white, 0.1)\n",
    "\n",
    "board1.close()\n",
    "board2.close()\n",
    "board3.close()\n",
    "\n",
    "# print boards side by side\n",
    "display(HTML(othello.SVGBoard.combine(board1.doc.tags, board2.doc.tags, board3.doc.tags)))\n"
   ]
  },
  {
   "cell_type": "markdown",
   "metadata": {},
   "source": [
    "### Intersection"
   ]
  },
  {
   "cell_type": "code",
   "execution_count": 16,
   "metadata": {
    "scrolled": true
   },
   "outputs": [
    {
     "data": {
      "text/html": [
       "<div style=\"white-space: nowrap\"><?xml version=\"1.0\" encoding=\"UTF-8\"?><svg xmlns=\"http://www.w3.org/2000/svg\" viewBox=\"0 0 10 10\" width=\"250\" height=\"250\"><rect x=\"1\" y=\"1\" width=\"8\" height=\"8\" style=\"fill:#009000;\" /><line x1=\"1\" y1=\"1.025\" x2=\"9\" y2=\"1.025\" style=\"stroke:black;stroke-width:0.05\" /><line x1=\"1\" y1=\"2\" x2=\"9\" y2=\"2\" style=\"stroke:black;stroke-width:0.05\" /><line x1=\"1\" y1=\"3\" x2=\"9\" y2=\"3\" style=\"stroke:black;stroke-width:0.05\" /><line x1=\"1\" y1=\"4\" x2=\"9\" y2=\"4\" style=\"stroke:black;stroke-width:0.05\" /><line x1=\"1\" y1=\"5\" x2=\"9\" y2=\"5\" style=\"stroke:black;stroke-width:0.05\" /><line x1=\"1\" y1=\"6\" x2=\"9\" y2=\"6\" style=\"stroke:black;stroke-width:0.05\" /><line x1=\"1\" y1=\"7\" x2=\"9\" y2=\"7\" style=\"stroke:black;stroke-width:0.05\" /><line x1=\"1\" y1=\"8\" x2=\"9\" y2=\"8\" style=\"stroke:black;stroke-width:0.05\" /><line x1=\"1\" y1=\"9\" x2=\"9\" y2=\"9\" style=\"stroke:black;stroke-width:0.05\" /><line x1=\"1\" y1=\"1\" x2=\"1\" y2=\"9.025\" style=\"stroke:black;stroke-width:0.05\" /><line x1=\"2\" y1=\"1\" x2=\"2\" y2=\"9.025\" style=\"stroke:black;stroke-width:0.05\" /><line x1=\"3\" y1=\"1\" x2=\"3\" y2=\"9.025\" style=\"stroke:black;stroke-width:0.05\" /><line x1=\"4\" y1=\"1\" x2=\"4\" y2=\"9.025\" style=\"stroke:black;stroke-width:0.05\" /><line x1=\"5\" y1=\"1\" x2=\"5\" y2=\"9.025\" style=\"stroke:black;stroke-width:0.05\" /><line x1=\"6\" y1=\"1\" x2=\"6\" y2=\"9.025\" style=\"stroke:black;stroke-width:0.05\" /><line x1=\"7\" y1=\"1\" x2=\"7\" y2=\"9.025\" style=\"stroke:black;stroke-width:0.05\" /><line x1=\"8\" y1=\"1\" x2=\"8\" y2=\"9.025\" style=\"stroke:black;stroke-width:0.05\" /><line x1=\"8.975\" y1=\"1\" x2=\"9\" y2=\"9.025\" style=\"stroke:black;stroke-width:0.05\" /><circle cx=\"3.5\" cy=\"3.5\" r=\"0.4\" style=\"fill:black\" /><circle cx=\"4.5\" cy=\"3.5\" r=\"0.4\" style=\"fill:black\" /><circle cx=\"5.5\" cy=\"3.5\" r=\"0.4\" style=\"fill:black\" /><circle cx=\"6.5\" cy=\"3.5\" r=\"0.4\" style=\"fill:black\" /><circle cx=\"3.5\" cy=\"4.5\" r=\"0.4\" style=\"fill:black\" /><circle cx=\"6.5\" cy=\"4.5\" r=\"0.4\" style=\"fill:black\" /><circle cx=\"3.5\" cy=\"5.5\" r=\"0.4\" style=\"fill:black\" /><circle cx=\"6.5\" cy=\"5.5\" r=\"0.4\" style=\"fill:black\" /><circle cx=\"3.5\" cy=\"6.5\" r=\"0.4\" style=\"fill:black\" /><circle cx=\"4.5\" cy=\"6.5\" r=\"0.4\" style=\"fill:black\" /><circle cx=\"5.5\" cy=\"6.5\" r=\"0.4\" style=\"fill:black\" /><circle cx=\"6.5\" cy=\"6.5\" r=\"0.4\" style=\"fill:black\" /></svg><?xml version=\"1.0\" encoding=\"UTF-8\"?><svg xmlns=\"http://www.w3.org/2000/svg\" viewBox=\"0 0 10 10\" width=\"250\" height=\"250\"><rect x=\"1\" y=\"1\" width=\"8\" height=\"8\" style=\"fill:#009000;\" /><line x1=\"1\" y1=\"1.025\" x2=\"9\" y2=\"1.025\" style=\"stroke:black;stroke-width:0.05\" /><line x1=\"1\" y1=\"2\" x2=\"9\" y2=\"2\" style=\"stroke:black;stroke-width:0.05\" /><line x1=\"1\" y1=\"3\" x2=\"9\" y2=\"3\" style=\"stroke:black;stroke-width:0.05\" /><line x1=\"1\" y1=\"4\" x2=\"9\" y2=\"4\" style=\"stroke:black;stroke-width:0.05\" /><line x1=\"1\" y1=\"5\" x2=\"9\" y2=\"5\" style=\"stroke:black;stroke-width:0.05\" /><line x1=\"1\" y1=\"6\" x2=\"9\" y2=\"6\" style=\"stroke:black;stroke-width:0.05\" /><line x1=\"1\" y1=\"7\" x2=\"9\" y2=\"7\" style=\"stroke:black;stroke-width:0.05\" /><line x1=\"1\" y1=\"8\" x2=\"9\" y2=\"8\" style=\"stroke:black;stroke-width:0.05\" /><line x1=\"1\" y1=\"9\" x2=\"9\" y2=\"9\" style=\"stroke:black;stroke-width:0.05\" /><line x1=\"1\" y1=\"1\" x2=\"1\" y2=\"9.025\" style=\"stroke:black;stroke-width:0.05\" /><line x1=\"2\" y1=\"1\" x2=\"2\" y2=\"9.025\" style=\"stroke:black;stroke-width:0.05\" /><line x1=\"3\" y1=\"1\" x2=\"3\" y2=\"9.025\" style=\"stroke:black;stroke-width:0.05\" /><line x1=\"4\" y1=\"1\" x2=\"4\" y2=\"9.025\" style=\"stroke:black;stroke-width:0.05\" /><line x1=\"5\" y1=\"1\" x2=\"5\" y2=\"9.025\" style=\"stroke:black;stroke-width:0.05\" /><line x1=\"6\" y1=\"1\" x2=\"6\" y2=\"9.025\" style=\"stroke:black;stroke-width:0.05\" /><line x1=\"7\" y1=\"1\" x2=\"7\" y2=\"9.025\" style=\"stroke:black;stroke-width:0.05\" /><line x1=\"8\" y1=\"1\" x2=\"8\" y2=\"9.025\" style=\"stroke:black;stroke-width:0.05\" /><line x1=\"8.975\" y1=\"1\" x2=\"9\" y2=\"9.025\" style=\"stroke:black;stroke-width:0.05\" /><circle cx=\"3.5\" cy=\"3.5\" r=\"0.4\" style=\"fill:black\" /><circle cx=\"4.5\" cy=\"3.5\" r=\"0.4\" style=\"fill:black\" /><circle cx=\"5.5\" cy=\"3.5\" r=\"0.4\" style=\"fill:black\" /><circle cx=\"6.5\" cy=\"3.5\" r=\"0.4\" style=\"fill:black\" /></svg><?xml version=\"1.0\" encoding=\"UTF-8\"?><svg xmlns=\"http://www.w3.org/2000/svg\" viewBox=\"0 0 10 10\" width=\"250\" height=\"250\"><rect x=\"1\" y=\"1\" width=\"8\" height=\"8\" style=\"fill:#009000;\" /><line x1=\"1\" y1=\"1.025\" x2=\"9\" y2=\"1.025\" style=\"stroke:black;stroke-width:0.05\" /><line x1=\"1\" y1=\"2\" x2=\"9\" y2=\"2\" style=\"stroke:black;stroke-width:0.05\" /><line x1=\"1\" y1=\"3\" x2=\"9\" y2=\"3\" style=\"stroke:black;stroke-width:0.05\" /><line x1=\"1\" y1=\"4\" x2=\"9\" y2=\"4\" style=\"stroke:black;stroke-width:0.05\" /><line x1=\"1\" y1=\"5\" x2=\"9\" y2=\"5\" style=\"stroke:black;stroke-width:0.05\" /><line x1=\"1\" y1=\"6\" x2=\"9\" y2=\"6\" style=\"stroke:black;stroke-width:0.05\" /><line x1=\"1\" y1=\"7\" x2=\"9\" y2=\"7\" style=\"stroke:black;stroke-width:0.05\" /><line x1=\"1\" y1=\"8\" x2=\"9\" y2=\"8\" style=\"stroke:black;stroke-width:0.05\" /><line x1=\"1\" y1=\"9\" x2=\"9\" y2=\"9\" style=\"stroke:black;stroke-width:0.05\" /><line x1=\"1\" y1=\"1\" x2=\"1\" y2=\"9.025\" style=\"stroke:black;stroke-width:0.05\" /><line x1=\"2\" y1=\"1\" x2=\"2\" y2=\"9.025\" style=\"stroke:black;stroke-width:0.05\" /><line x1=\"3\" y1=\"1\" x2=\"3\" y2=\"9.025\" style=\"stroke:black;stroke-width:0.05\" /><line x1=\"4\" y1=\"1\" x2=\"4\" y2=\"9.025\" style=\"stroke:black;stroke-width:0.05\" /><line x1=\"5\" y1=\"1\" x2=\"5\" y2=\"9.025\" style=\"stroke:black;stroke-width:0.05\" /><line x1=\"6\" y1=\"1\" x2=\"6\" y2=\"9.025\" style=\"stroke:black;stroke-width:0.05\" /><line x1=\"7\" y1=\"1\" x2=\"7\" y2=\"9.025\" style=\"stroke:black;stroke-width:0.05\" /><line x1=\"8\" y1=\"1\" x2=\"8\" y2=\"9.025\" style=\"stroke:black;stroke-width:0.05\" /><line x1=\"8.975\" y1=\"1\" x2=\"9\" y2=\"9.025\" style=\"stroke:black;stroke-width:0.05\" /><circle cx=\"3.5\" cy=\"3.5\" r=\"0.1\" style=\"fill:white\" /><circle cx=\"4.5\" cy=\"3.5\" r=\"0.1\" style=\"fill:white\" /><circle cx=\"5.5\" cy=\"3.5\" r=\"0.1\" style=\"fill:white\" /><circle cx=\"6.5\" cy=\"3.5\" r=\"0.1\" style=\"fill:white\" /></svg></div>"
      ],
      "text/plain": [
       "<IPython.core.display.HTML object>"
      ]
     },
     "metadata": {},
     "output_type": "display_data"
    }
   ],
   "source": [
    "# reset boards\n",
    "board1.reset(False)\n",
    "board2.reset(False)\n",
    "board3.reset(False)\n",
    "\n",
    "bb3 = othello.Bitboard(0b00000000_00000000_00111100_00000000_00000000_00000000_00000000_00000000)\n",
    "\n",
    "board1.draw_pieces_from_bitboard(bb1, othello.Color.black)\n",
    "board2.draw_pieces_from_bitboard(bb3, othello.Color.black)\n",
    "board3.draw_pieces_from_bitboard(bb1&bb3, othello.Color.white, 0.1)\n",
    "\n",
    "board1.close()\n",
    "board2.close()\n",
    "board3.close()\n",
    "\n",
    "# print boards side by side\n",
    "display(HTML(othello.SVGBoard.combine(board1.doc.tags, board2.doc.tags, board3.doc.tags)))"
   ]
  },
  {
   "cell_type": "markdown",
   "metadata": {},
   "source": [
    "### Negate"
   ]
  },
  {
   "cell_type": "code",
   "execution_count": 17,
   "metadata": {},
   "outputs": [
    {
     "data": {
      "text/html": [
       "<div style=\"white-space: nowrap\"><?xml version=\"1.0\" encoding=\"UTF-8\"?><svg xmlns=\"http://www.w3.org/2000/svg\" viewBox=\"0 0 10 10\" width=\"250\" height=\"250\"><rect x=\"1\" y=\"1\" width=\"8\" height=\"8\" style=\"fill:#009000;\" /><line x1=\"1\" y1=\"1.025\" x2=\"9\" y2=\"1.025\" style=\"stroke:black;stroke-width:0.05\" /><line x1=\"1\" y1=\"2\" x2=\"9\" y2=\"2\" style=\"stroke:black;stroke-width:0.05\" /><line x1=\"1\" y1=\"3\" x2=\"9\" y2=\"3\" style=\"stroke:black;stroke-width:0.05\" /><line x1=\"1\" y1=\"4\" x2=\"9\" y2=\"4\" style=\"stroke:black;stroke-width:0.05\" /><line x1=\"1\" y1=\"5\" x2=\"9\" y2=\"5\" style=\"stroke:black;stroke-width:0.05\" /><line x1=\"1\" y1=\"6\" x2=\"9\" y2=\"6\" style=\"stroke:black;stroke-width:0.05\" /><line x1=\"1\" y1=\"7\" x2=\"9\" y2=\"7\" style=\"stroke:black;stroke-width:0.05\" /><line x1=\"1\" y1=\"8\" x2=\"9\" y2=\"8\" style=\"stroke:black;stroke-width:0.05\" /><line x1=\"1\" y1=\"9\" x2=\"9\" y2=\"9\" style=\"stroke:black;stroke-width:0.05\" /><line x1=\"1\" y1=\"1\" x2=\"1\" y2=\"9.025\" style=\"stroke:black;stroke-width:0.05\" /><line x1=\"2\" y1=\"1\" x2=\"2\" y2=\"9.025\" style=\"stroke:black;stroke-width:0.05\" /><line x1=\"3\" y1=\"1\" x2=\"3\" y2=\"9.025\" style=\"stroke:black;stroke-width:0.05\" /><line x1=\"4\" y1=\"1\" x2=\"4\" y2=\"9.025\" style=\"stroke:black;stroke-width:0.05\" /><line x1=\"5\" y1=\"1\" x2=\"5\" y2=\"9.025\" style=\"stroke:black;stroke-width:0.05\" /><line x1=\"6\" y1=\"1\" x2=\"6\" y2=\"9.025\" style=\"stroke:black;stroke-width:0.05\" /><line x1=\"7\" y1=\"1\" x2=\"7\" y2=\"9.025\" style=\"stroke:black;stroke-width:0.05\" /><line x1=\"8\" y1=\"1\" x2=\"8\" y2=\"9.025\" style=\"stroke:black;stroke-width:0.05\" /><line x1=\"8.975\" y1=\"1\" x2=\"9\" y2=\"9.025\" style=\"stroke:black;stroke-width:0.05\" /><circle cx=\"3.5\" cy=\"3.5\" r=\"0.4\" style=\"fill:black\" /><circle cx=\"4.5\" cy=\"3.5\" r=\"0.4\" style=\"fill:black\" /><circle cx=\"5.5\" cy=\"3.5\" r=\"0.4\" style=\"fill:black\" /><circle cx=\"6.5\" cy=\"3.5\" r=\"0.4\" style=\"fill:black\" /></svg><?xml version=\"1.0\" encoding=\"UTF-8\"?><svg xmlns=\"http://www.w3.org/2000/svg\" viewBox=\"0 0 10 10\" width=\"250\" height=\"250\"><rect x=\"1\" y=\"1\" width=\"8\" height=\"8\" style=\"fill:#009000;\" /><line x1=\"1\" y1=\"1.025\" x2=\"9\" y2=\"1.025\" style=\"stroke:black;stroke-width:0.05\" /><line x1=\"1\" y1=\"2\" x2=\"9\" y2=\"2\" style=\"stroke:black;stroke-width:0.05\" /><line x1=\"1\" y1=\"3\" x2=\"9\" y2=\"3\" style=\"stroke:black;stroke-width:0.05\" /><line x1=\"1\" y1=\"4\" x2=\"9\" y2=\"4\" style=\"stroke:black;stroke-width:0.05\" /><line x1=\"1\" y1=\"5\" x2=\"9\" y2=\"5\" style=\"stroke:black;stroke-width:0.05\" /><line x1=\"1\" y1=\"6\" x2=\"9\" y2=\"6\" style=\"stroke:black;stroke-width:0.05\" /><line x1=\"1\" y1=\"7\" x2=\"9\" y2=\"7\" style=\"stroke:black;stroke-width:0.05\" /><line x1=\"1\" y1=\"8\" x2=\"9\" y2=\"8\" style=\"stroke:black;stroke-width:0.05\" /><line x1=\"1\" y1=\"9\" x2=\"9\" y2=\"9\" style=\"stroke:black;stroke-width:0.05\" /><line x1=\"1\" y1=\"1\" x2=\"1\" y2=\"9.025\" style=\"stroke:black;stroke-width:0.05\" /><line x1=\"2\" y1=\"1\" x2=\"2\" y2=\"9.025\" style=\"stroke:black;stroke-width:0.05\" /><line x1=\"3\" y1=\"1\" x2=\"3\" y2=\"9.025\" style=\"stroke:black;stroke-width:0.05\" /><line x1=\"4\" y1=\"1\" x2=\"4\" y2=\"9.025\" style=\"stroke:black;stroke-width:0.05\" /><line x1=\"5\" y1=\"1\" x2=\"5\" y2=\"9.025\" style=\"stroke:black;stroke-width:0.05\" /><line x1=\"6\" y1=\"1\" x2=\"6\" y2=\"9.025\" style=\"stroke:black;stroke-width:0.05\" /><line x1=\"7\" y1=\"1\" x2=\"7\" y2=\"9.025\" style=\"stroke:black;stroke-width:0.05\" /><line x1=\"8\" y1=\"1\" x2=\"8\" y2=\"9.025\" style=\"stroke:black;stroke-width:0.05\" /><line x1=\"8.975\" y1=\"1\" x2=\"9\" y2=\"9.025\" style=\"stroke:black;stroke-width:0.05\" /><circle cx=\"1.5\" cy=\"1.5\" r=\"0.1\" style=\"fill:white\" /><circle cx=\"2.5\" cy=\"1.5\" r=\"0.1\" style=\"fill:white\" /><circle cx=\"3.5\" cy=\"1.5\" r=\"0.1\" style=\"fill:white\" /><circle cx=\"4.5\" cy=\"1.5\" r=\"0.1\" style=\"fill:white\" /><circle cx=\"5.5\" cy=\"1.5\" r=\"0.1\" style=\"fill:white\" /><circle cx=\"6.5\" cy=\"1.5\" r=\"0.1\" style=\"fill:white\" /><circle cx=\"7.5\" cy=\"1.5\" r=\"0.1\" style=\"fill:white\" /><circle cx=\"8.5\" cy=\"1.5\" r=\"0.1\" style=\"fill:white\" /><circle cx=\"1.5\" cy=\"2.5\" r=\"0.1\" style=\"fill:white\" /><circle cx=\"2.5\" cy=\"2.5\" r=\"0.1\" style=\"fill:white\" /><circle cx=\"3.5\" cy=\"2.5\" r=\"0.1\" style=\"fill:white\" /><circle cx=\"4.5\" cy=\"2.5\" r=\"0.1\" style=\"fill:white\" /><circle cx=\"5.5\" cy=\"2.5\" r=\"0.1\" style=\"fill:white\" /><circle cx=\"6.5\" cy=\"2.5\" r=\"0.1\" style=\"fill:white\" /><circle cx=\"7.5\" cy=\"2.5\" r=\"0.1\" style=\"fill:white\" /><circle cx=\"8.5\" cy=\"2.5\" r=\"0.1\" style=\"fill:white\" /><circle cx=\"1.5\" cy=\"3.5\" r=\"0.1\" style=\"fill:white\" /><circle cx=\"2.5\" cy=\"3.5\" r=\"0.1\" style=\"fill:white\" /><circle cx=\"7.5\" cy=\"3.5\" r=\"0.1\" style=\"fill:white\" /><circle cx=\"8.5\" cy=\"3.5\" r=\"0.1\" style=\"fill:white\" /><circle cx=\"1.5\" cy=\"4.5\" r=\"0.1\" style=\"fill:white\" /><circle cx=\"2.5\" cy=\"4.5\" r=\"0.1\" style=\"fill:white\" /><circle cx=\"3.5\" cy=\"4.5\" r=\"0.1\" style=\"fill:white\" /><circle cx=\"4.5\" cy=\"4.5\" r=\"0.1\" style=\"fill:white\" /><circle cx=\"5.5\" cy=\"4.5\" r=\"0.1\" style=\"fill:white\" /><circle cx=\"6.5\" cy=\"4.5\" r=\"0.1\" style=\"fill:white\" /><circle cx=\"7.5\" cy=\"4.5\" r=\"0.1\" style=\"fill:white\" /><circle cx=\"8.5\" cy=\"4.5\" r=\"0.1\" style=\"fill:white\" /><circle cx=\"1.5\" cy=\"5.5\" r=\"0.1\" style=\"fill:white\" /><circle cx=\"2.5\" cy=\"5.5\" r=\"0.1\" style=\"fill:white\" /><circle cx=\"3.5\" cy=\"5.5\" r=\"0.1\" style=\"fill:white\" /><circle cx=\"4.5\" cy=\"5.5\" r=\"0.1\" style=\"fill:white\" /><circle cx=\"5.5\" cy=\"5.5\" r=\"0.1\" style=\"fill:white\" /><circle cx=\"6.5\" cy=\"5.5\" r=\"0.1\" style=\"fill:white\" /><circle cx=\"7.5\" cy=\"5.5\" r=\"0.1\" style=\"fill:white\" /><circle cx=\"8.5\" cy=\"5.5\" r=\"0.1\" style=\"fill:white\" /><circle cx=\"1.5\" cy=\"6.5\" r=\"0.1\" style=\"fill:white\" /><circle cx=\"2.5\" cy=\"6.5\" r=\"0.1\" style=\"fill:white\" /><circle cx=\"3.5\" cy=\"6.5\" r=\"0.1\" style=\"fill:white\" /><circle cx=\"4.5\" cy=\"6.5\" r=\"0.1\" style=\"fill:white\" /><circle cx=\"5.5\" cy=\"6.5\" r=\"0.1\" style=\"fill:white\" /><circle cx=\"6.5\" cy=\"6.5\" r=\"0.1\" style=\"fill:white\" /><circle cx=\"7.5\" cy=\"6.5\" r=\"0.1\" style=\"fill:white\" /><circle cx=\"8.5\" cy=\"6.5\" r=\"0.1\" style=\"fill:white\" /><circle cx=\"1.5\" cy=\"7.5\" r=\"0.1\" style=\"fill:white\" /><circle cx=\"2.5\" cy=\"7.5\" r=\"0.1\" style=\"fill:white\" /><circle cx=\"3.5\" cy=\"7.5\" r=\"0.1\" style=\"fill:white\" /><circle cx=\"4.5\" cy=\"7.5\" r=\"0.1\" style=\"fill:white\" /><circle cx=\"5.5\" cy=\"7.5\" r=\"0.1\" style=\"fill:white\" /><circle cx=\"6.5\" cy=\"7.5\" r=\"0.1\" style=\"fill:white\" /><circle cx=\"7.5\" cy=\"7.5\" r=\"0.1\" style=\"fill:white\" /><circle cx=\"8.5\" cy=\"7.5\" r=\"0.1\" style=\"fill:white\" /><circle cx=\"1.5\" cy=\"8.5\" r=\"0.1\" style=\"fill:white\" /><circle cx=\"2.5\" cy=\"8.5\" r=\"0.1\" style=\"fill:white\" /><circle cx=\"3.5\" cy=\"8.5\" r=\"0.1\" style=\"fill:white\" /><circle cx=\"4.5\" cy=\"8.5\" r=\"0.1\" style=\"fill:white\" /><circle cx=\"5.5\" cy=\"8.5\" r=\"0.1\" style=\"fill:white\" /><circle cx=\"6.5\" cy=\"8.5\" r=\"0.1\" style=\"fill:white\" /><circle cx=\"7.5\" cy=\"8.5\" r=\"0.1\" style=\"fill:white\" /><circle cx=\"8.5\" cy=\"8.5\" r=\"0.1\" style=\"fill:white\" /></svg></div>"
      ],
      "text/plain": [
       "<IPython.core.display.HTML object>"
      ]
     },
     "metadata": {},
     "output_type": "display_data"
    }
   ],
   "source": [
    "# reset 2 boards\n",
    "board1.reset(False)\n",
    "board3.reset(False)\n",
    "\n",
    "board1.draw_pieces_from_bitboard(bb3, othello.Color.black)\n",
    "board3.draw_pieces_from_bitboard(~bb3, othello.Color.white, 0.1)\n",
    "\n",
    "board1.close()\n",
    "board3.close()\n",
    "\n",
    "\n",
    "# print both side by side\n",
    "display(HTML(othello.SVGBoard.combine(board1.doc.tags, board3.doc.tags)))\n",
    "\n"
   ]
  },
  {
   "cell_type": "code",
   "execution_count": null,
   "metadata": {},
   "outputs": [],
   "source": []
  },
  {
   "cell_type": "code",
   "execution_count": null,
   "metadata": {},
   "outputs": [],
   "source": []
  },
  {
   "cell_type": "code",
   "execution_count": null,
   "metadata": {},
   "outputs": [],
   "source": []
  }
 ],
 "metadata": {
  "kernelspec": {
   "display_name": "Python 3",
   "language": "python",
   "name": "python3"
  },
  "language_info": {
   "codemirror_mode": {
    "name": "ipython",
    "version": 3
   },
   "file_extension": ".py",
   "mimetype": "text/x-python",
   "name": "python",
   "nbconvert_exporter": "python",
   "pygments_lexer": "ipython3",
   "version": "3.7.1"
  }
 },
 "nbformat": 4,
 "nbformat_minor": 2
}
